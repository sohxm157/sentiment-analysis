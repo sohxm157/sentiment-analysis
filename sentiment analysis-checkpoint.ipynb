{
 "cells": [
  {
   "cell_type": "code",
   "execution_count": 1,
   "metadata": {
    "execution": {
     "iopub.execute_input": "2022-05-04T19:39:21.716451Z",
     "iopub.status.busy": "2022-05-04T19:39:21.715793Z",
     "iopub.status.idle": "2022-05-04T19:39:23.804667Z",
     "shell.execute_reply": "2022-05-04T19:39:23.803713Z",
     "shell.execute_reply.started": "2022-05-04T19:39:21.716291Z"
    }
   },
   "outputs": [],
   "source": [
    "import pandas as pd\n",
    "import numpy as np\n",
    "import matplotlib.pyplot as plt\n",
    "import seaborn as sns\n",
    "\n",
    "plt.style.use('ggplot')\n",
    "\n",
    "import nltk"
   ]
  },
  {
   "cell_type": "code",
   "execution_count": 6,
   "metadata": {
    "execution": {
     "iopub.execute_input": "2022-05-04T19:40:57.583681Z",
     "iopub.status.busy": "2022-05-04T19:40:57.583163Z",
     "iopub.status.idle": "2022-05-04T19:41:02.153565Z",
     "shell.execute_reply": "2022-05-04T19:41:02.152345Z",
     "shell.execute_reply.started": "2022-05-04T19:40:57.583629Z"
    }
   },
   "outputs": [
    {
     "name": "stdout",
     "output_type": "stream",
     "text": [
      "(568454, 10)\n",
      "(500, 10)\n"
     ]
    }
   ],
   "source": [
    "# Read in data\n",
    "df = pd.read_csv('Reviews.csv')\n",
    "print(df.shape)\n",
    "df = df.head(500)\n",
    "print(df.shape)"
   ]
  },
  {
   "cell_type": "code",
   "execution_count": 7,
   "metadata": {
    "execution": {
     "iopub.execute_input": "2022-05-04T19:41:11.259584Z",
     "iopub.status.busy": "2022-05-04T19:41:11.259303Z",
     "iopub.status.idle": "2022-05-04T19:41:11.274472Z",
     "shell.execute_reply": "2022-05-04T19:41:11.27385Z",
     "shell.execute_reply.started": "2022-05-04T19:41:11.259556Z"
    }
   },
   "outputs": [
    {
     "data": {
      "text/html": [
       "<div>\n",
       "<style scoped>\n",
       "    .dataframe tbody tr th:only-of-type {\n",
       "        vertical-align: middle;\n",
       "    }\n",
       "\n",
       "    .dataframe tbody tr th {\n",
       "        vertical-align: top;\n",
       "    }\n",
       "\n",
       "    .dataframe thead th {\n",
       "        text-align: right;\n",
       "    }\n",
       "</style>\n",
       "<table border=\"1\" class=\"dataframe\">\n",
       "  <thead>\n",
       "    <tr style=\"text-align: right;\">\n",
       "      <th></th>\n",
       "      <th>Id</th>\n",
       "      <th>ProductId</th>\n",
       "      <th>UserId</th>\n",
       "      <th>ProfileName</th>\n",
       "      <th>HelpfulnessNumerator</th>\n",
       "      <th>HelpfulnessDenominator</th>\n",
       "      <th>Score</th>\n",
       "      <th>Time</th>\n",
       "      <th>Summary</th>\n",
       "      <th>Text</th>\n",
       "    </tr>\n",
       "  </thead>\n",
       "  <tbody>\n",
       "    <tr>\n",
       "      <th>0</th>\n",
       "      <td>1</td>\n",
       "      <td>B001E4KFG0</td>\n",
       "      <td>A3SGXH7AUHU8GW</td>\n",
       "      <td>delmartian</td>\n",
       "      <td>1</td>\n",
       "      <td>1</td>\n",
       "      <td>5</td>\n",
       "      <td>1303862400</td>\n",
       "      <td>Good Quality Dog Food</td>\n",
       "      <td>I have bought several of the Vitality canned d...</td>\n",
       "    </tr>\n",
       "    <tr>\n",
       "      <th>1</th>\n",
       "      <td>2</td>\n",
       "      <td>B00813GRG4</td>\n",
       "      <td>A1D87F6ZCVE5NK</td>\n",
       "      <td>dll pa</td>\n",
       "      <td>0</td>\n",
       "      <td>0</td>\n",
       "      <td>1</td>\n",
       "      <td>1346976000</td>\n",
       "      <td>Not as Advertised</td>\n",
       "      <td>Product arrived labeled as Jumbo Salted Peanut...</td>\n",
       "    </tr>\n",
       "    <tr>\n",
       "      <th>2</th>\n",
       "      <td>3</td>\n",
       "      <td>B000LQOCH0</td>\n",
       "      <td>ABXLMWJIXXAIN</td>\n",
       "      <td>Natalia Corres \"Natalia Corres\"</td>\n",
       "      <td>1</td>\n",
       "      <td>1</td>\n",
       "      <td>4</td>\n",
       "      <td>1219017600</td>\n",
       "      <td>\"Delight\" says it all</td>\n",
       "      <td>This is a confection that has been around a fe...</td>\n",
       "    </tr>\n",
       "    <tr>\n",
       "      <th>3</th>\n",
       "      <td>4</td>\n",
       "      <td>B000UA0QIQ</td>\n",
       "      <td>A395BORC6FGVXV</td>\n",
       "      <td>Karl</td>\n",
       "      <td>3</td>\n",
       "      <td>3</td>\n",
       "      <td>2</td>\n",
       "      <td>1307923200</td>\n",
       "      <td>Cough Medicine</td>\n",
       "      <td>If you are looking for the secret ingredient i...</td>\n",
       "    </tr>\n",
       "    <tr>\n",
       "      <th>4</th>\n",
       "      <td>5</td>\n",
       "      <td>B006K2ZZ7K</td>\n",
       "      <td>A1UQRSCLF8GW1T</td>\n",
       "      <td>Michael D. Bigham \"M. Wassir\"</td>\n",
       "      <td>0</td>\n",
       "      <td>0</td>\n",
       "      <td>5</td>\n",
       "      <td>1350777600</td>\n",
       "      <td>Great taffy</td>\n",
       "      <td>Great taffy at a great price.  There was a wid...</td>\n",
       "    </tr>\n",
       "  </tbody>\n",
       "</table>\n",
       "</div>"
      ],
      "text/plain": [
       "   Id   ProductId          UserId                      ProfileName  \\\n",
       "0   1  B001E4KFG0  A3SGXH7AUHU8GW                       delmartian   \n",
       "1   2  B00813GRG4  A1D87F6ZCVE5NK                           dll pa   \n",
       "2   3  B000LQOCH0   ABXLMWJIXXAIN  Natalia Corres \"Natalia Corres\"   \n",
       "3   4  B000UA0QIQ  A395BORC6FGVXV                             Karl   \n",
       "4   5  B006K2ZZ7K  A1UQRSCLF8GW1T    Michael D. Bigham \"M. Wassir\"   \n",
       "\n",
       "   HelpfulnessNumerator  HelpfulnessDenominator  Score        Time  \\\n",
       "0                     1                       1      5  1303862400   \n",
       "1                     0                       0      1  1346976000   \n",
       "2                     1                       1      4  1219017600   \n",
       "3                     3                       3      2  1307923200   \n",
       "4                     0                       0      5  1350777600   \n",
       "\n",
       "                 Summary                                               Text  \n",
       "0  Good Quality Dog Food  I have bought several of the Vitality canned d...  \n",
       "1      Not as Advertised  Product arrived labeled as Jumbo Salted Peanut...  \n",
       "2  \"Delight\" says it all  This is a confection that has been around a fe...  \n",
       "3         Cough Medicine  If you are looking for the secret ingredient i...  \n",
       "4            Great taffy  Great taffy at a great price.  There was a wid...  "
      ]
     },
     "execution_count": 7,
     "metadata": {},
     "output_type": "execute_result"
    }
   ],
   "source": [
    "df.head()"
   ]
  },
  {
   "cell_type": "code",
   "execution_count": 29,
   "metadata": {},
   "outputs": [
    {
     "name": "stdout",
     "output_type": "stream",
     "text": [
      "The variety packs taste great!<br /><br />I have them every morning. At $0.30 cents per meal, I don't understand why everyone on earth isn't buying this stuff up.<br /><br />Maple and brown sugar is terrific, followed by apples and cinnamon, followed by regular. You don't get tired of the same ole thing, and they taste great.<br /><br />I just boil water from a small pot, empty the packet or 2 in a bowl, pour in boiling water, and watch it expand to 2x its size!<br /><br />Taste really good and takes minutes to prepare.<br /><br />Not sure why everyone on earth isn't this. Convenient, healthy, very quick, excellent quality, and extremely cheap...\n"
     ]
    }
   ],
   "source": [
    "#examples of nltk\n",
    "example = df['Text'][50]\n",
    "print(example)"
   ]
  },
  {
   "cell_type": "code",
   "execution_count": 24,
   "metadata": {},
   "outputs": [
    {
     "data": {
      "text/plain": [
       "['This', 'oatmeal', 'is', 'not', 'good', '.', 'Its', 'mushy', ',', 'soft']"
      ]
     },
     "execution_count": 24,
     "metadata": {},
     "output_type": "execute_result"
    }
   ],
   "source": [
    "tokens = nltk.word_tokenize(example)\n",
    "tokens[:10]"
   ]
  },
  {
   "cell_type": "code",
   "execution_count": 31,
   "metadata": {
    "execution": {
     "iopub.execute_input": "2022-05-04T19:49:00.872374Z",
     "iopub.status.busy": "2022-05-04T19:49:00.871775Z",
     "iopub.status.idle": "2022-05-04T19:49:00.897436Z",
     "shell.execute_reply": "2022-05-04T19:49:00.896255Z",
     "shell.execute_reply.started": "2022-05-04T19:49:00.872332Z"
    }
   },
   "outputs": [],
   "source": [
    "#vadersentimentscoring\n",
    "from nltk.sentiment import SentimentIntensityAnalyzer\n",
    "from tqdm.notebook import tqdm\n",
    "\n",
    "sia = SentimentIntensityAnalyzer()"
   ]
  },
  {
   "cell_type": "code",
   "execution_count": 10,
   "metadata": {
    "execution": {
     "iopub.execute_input": "2022-05-04T19:49:23.163454Z",
     "iopub.status.busy": "2022-05-04T19:49:23.162587Z",
     "iopub.status.idle": "2022-05-04T19:49:23.169341Z",
     "shell.execute_reply": "2022-05-04T19:49:23.168416Z",
     "shell.execute_reply.started": "2022-05-04T19:49:23.163405Z"
    }
   },
   "outputs": [
    {
     "data": {
      "text/plain": [
       "{'neg': 0.0, 'neu': 0.318, 'pos': 0.682, 'compound': 0.6468}"
      ]
     },
     "execution_count": 10,
     "metadata": {},
     "output_type": "execute_result"
    }
   ],
   "source": [
    "sia.polarity_scores('I am so happy!')"
   ]
  },
  {
   "cell_type": "code",
   "execution_count": 11,
   "metadata": {
    "execution": {
     "iopub.execute_input": "2022-05-04T19:50:17.484008Z",
     "iopub.status.busy": "2022-05-04T19:50:17.483709Z",
     "iopub.status.idle": "2022-05-04T19:50:17.490483Z",
     "shell.execute_reply": "2022-05-04T19:50:17.489645Z",
     "shell.execute_reply.started": "2022-05-04T19:50:17.483975Z"
    }
   },
   "outputs": [
    {
     "data": {
      "text/plain": [
       "{'neg': 0.451, 'neu': 0.549, 'pos': 0.0, 'compound': -0.6249}"
      ]
     },
     "execution_count": 11,
     "metadata": {},
     "output_type": "execute_result"
    }
   ],
   "source": [
    "sia.polarity_scores('This is the worst thing ever.')"
   ]
  },
  {
   "cell_type": "code",
   "execution_count": 25,
   "metadata": {},
   "outputs": [
    {
     "data": {
      "text/plain": [
       "{'neg': 0.22, 'neu': 0.78, 'pos': 0.0, 'compound': -0.5448}"
      ]
     },
     "execution_count": 25,
     "metadata": {},
     "output_type": "execute_result"
    }
   ],
   "source": [
    "sia.polarity_scores(example)\n"
   ]
  },
  {
   "cell_type": "code",
   "execution_count": 13,
   "metadata": {
    "execution": {
     "iopub.execute_input": "2022-05-04T19:52:58.893588Z",
     "iopub.status.busy": "2022-05-04T19:52:58.893245Z",
     "iopub.status.idle": "2022-05-04T19:52:59.49514Z",
     "shell.execute_reply": "2022-05-04T19:52:59.494275Z",
     "shell.execute_reply.started": "2022-05-04T19:52:58.893552Z"
    }
   },
   "outputs": [
    {
     "data": {
      "application/vnd.jupyter.widget-view+json": {
       "model_id": "19d68bb477c5424190e754b6fba57882",
       "version_major": 2,
       "version_minor": 0
      },
      "text/plain": [
       "  0%|          | 0/500 [00:00<?, ?it/s]"
      ]
     },
     "metadata": {},
     "output_type": "display_data"
    }
   ],
   "source": [
    "# Run the polarity score on the entire dataset\n",
    "res = {}\n",
    "for i, row in tqdm(df.iterrows(), total=len(df)):\n",
    "    text = row['Text']\n",
    "    myid = row['Id']\n",
    "    res[myid] = sia.polarity_scores(text)"
   ]
  },
  {
   "cell_type": "code",
   "execution_count": 14,
   "metadata": {
    "execution": {
     "iopub.execute_input": "2022-05-04T19:54:30.925103Z",
     "iopub.status.busy": "2022-05-04T19:54:30.924791Z",
     "iopub.status.idle": "2022-05-04T19:54:30.966166Z",
     "shell.execute_reply": "2022-05-04T19:54:30.965461Z",
     "shell.execute_reply.started": "2022-05-04T19:54:30.925073Z"
    }
   },
   "outputs": [],
   "source": [
    "vaders = pd.DataFrame(res).T\n",
    "vaders = vaders.reset_index().rename(columns={'index': 'Id'})\n",
    "vaders = vaders.merge(df, how='left')"
   ]
  },
  {
   "cell_type": "code",
   "execution_count": 15,
   "metadata": {
    "execution": {
     "iopub.execute_input": "2022-05-04T19:54:54.822947Z",
     "iopub.status.busy": "2022-05-04T19:54:54.822445Z",
     "iopub.status.idle": "2022-05-04T19:54:54.841701Z",
     "shell.execute_reply": "2022-05-04T19:54:54.840666Z",
     "shell.execute_reply.started": "2022-05-04T19:54:54.822898Z"
    }
   },
   "outputs": [
    {
     "data": {
      "text/html": [
       "<div>\n",
       "<style scoped>\n",
       "    .dataframe tbody tr th:only-of-type {\n",
       "        vertical-align: middle;\n",
       "    }\n",
       "\n",
       "    .dataframe tbody tr th {\n",
       "        vertical-align: top;\n",
       "    }\n",
       "\n",
       "    .dataframe thead th {\n",
       "        text-align: right;\n",
       "    }\n",
       "</style>\n",
       "<table border=\"1\" class=\"dataframe\">\n",
       "  <thead>\n",
       "    <tr style=\"text-align: right;\">\n",
       "      <th></th>\n",
       "      <th>Id</th>\n",
       "      <th>neg</th>\n",
       "      <th>neu</th>\n",
       "      <th>pos</th>\n",
       "      <th>compound</th>\n",
       "      <th>ProductId</th>\n",
       "      <th>UserId</th>\n",
       "      <th>ProfileName</th>\n",
       "      <th>HelpfulnessNumerator</th>\n",
       "      <th>HelpfulnessDenominator</th>\n",
       "      <th>Score</th>\n",
       "      <th>Time</th>\n",
       "      <th>Summary</th>\n",
       "      <th>Text</th>\n",
       "    </tr>\n",
       "  </thead>\n",
       "  <tbody>\n",
       "    <tr>\n",
       "      <th>0</th>\n",
       "      <td>1</td>\n",
       "      <td>0.000</td>\n",
       "      <td>0.695</td>\n",
       "      <td>0.305</td>\n",
       "      <td>0.9441</td>\n",
       "      <td>B001E4KFG0</td>\n",
       "      <td>A3SGXH7AUHU8GW</td>\n",
       "      <td>delmartian</td>\n",
       "      <td>1</td>\n",
       "      <td>1</td>\n",
       "      <td>5</td>\n",
       "      <td>1303862400</td>\n",
       "      <td>Good Quality Dog Food</td>\n",
       "      <td>I have bought several of the Vitality canned d...</td>\n",
       "    </tr>\n",
       "    <tr>\n",
       "      <th>1</th>\n",
       "      <td>2</td>\n",
       "      <td>0.138</td>\n",
       "      <td>0.862</td>\n",
       "      <td>0.000</td>\n",
       "      <td>-0.5664</td>\n",
       "      <td>B00813GRG4</td>\n",
       "      <td>A1D87F6ZCVE5NK</td>\n",
       "      <td>dll pa</td>\n",
       "      <td>0</td>\n",
       "      <td>0</td>\n",
       "      <td>1</td>\n",
       "      <td>1346976000</td>\n",
       "      <td>Not as Advertised</td>\n",
       "      <td>Product arrived labeled as Jumbo Salted Peanut...</td>\n",
       "    </tr>\n",
       "    <tr>\n",
       "      <th>2</th>\n",
       "      <td>3</td>\n",
       "      <td>0.091</td>\n",
       "      <td>0.754</td>\n",
       "      <td>0.155</td>\n",
       "      <td>0.8265</td>\n",
       "      <td>B000LQOCH0</td>\n",
       "      <td>ABXLMWJIXXAIN</td>\n",
       "      <td>Natalia Corres \"Natalia Corres\"</td>\n",
       "      <td>1</td>\n",
       "      <td>1</td>\n",
       "      <td>4</td>\n",
       "      <td>1219017600</td>\n",
       "      <td>\"Delight\" says it all</td>\n",
       "      <td>This is a confection that has been around a fe...</td>\n",
       "    </tr>\n",
       "    <tr>\n",
       "      <th>3</th>\n",
       "      <td>4</td>\n",
       "      <td>0.000</td>\n",
       "      <td>1.000</td>\n",
       "      <td>0.000</td>\n",
       "      <td>0.0000</td>\n",
       "      <td>B000UA0QIQ</td>\n",
       "      <td>A395BORC6FGVXV</td>\n",
       "      <td>Karl</td>\n",
       "      <td>3</td>\n",
       "      <td>3</td>\n",
       "      <td>2</td>\n",
       "      <td>1307923200</td>\n",
       "      <td>Cough Medicine</td>\n",
       "      <td>If you are looking for the secret ingredient i...</td>\n",
       "    </tr>\n",
       "    <tr>\n",
       "      <th>4</th>\n",
       "      <td>5</td>\n",
       "      <td>0.000</td>\n",
       "      <td>0.552</td>\n",
       "      <td>0.448</td>\n",
       "      <td>0.9468</td>\n",
       "      <td>B006K2ZZ7K</td>\n",
       "      <td>A1UQRSCLF8GW1T</td>\n",
       "      <td>Michael D. Bigham \"M. Wassir\"</td>\n",
       "      <td>0</td>\n",
       "      <td>0</td>\n",
       "      <td>5</td>\n",
       "      <td>1350777600</td>\n",
       "      <td>Great taffy</td>\n",
       "      <td>Great taffy at a great price.  There was a wid...</td>\n",
       "    </tr>\n",
       "  </tbody>\n",
       "</table>\n",
       "</div>"
      ],
      "text/plain": [
       "   Id    neg    neu    pos  compound   ProductId          UserId  \\\n",
       "0   1  0.000  0.695  0.305    0.9441  B001E4KFG0  A3SGXH7AUHU8GW   \n",
       "1   2  0.138  0.862  0.000   -0.5664  B00813GRG4  A1D87F6ZCVE5NK   \n",
       "2   3  0.091  0.754  0.155    0.8265  B000LQOCH0   ABXLMWJIXXAIN   \n",
       "3   4  0.000  1.000  0.000    0.0000  B000UA0QIQ  A395BORC6FGVXV   \n",
       "4   5  0.000  0.552  0.448    0.9468  B006K2ZZ7K  A1UQRSCLF8GW1T   \n",
       "\n",
       "                       ProfileName  HelpfulnessNumerator  \\\n",
       "0                       delmartian                     1   \n",
       "1                           dll pa                     0   \n",
       "2  Natalia Corres \"Natalia Corres\"                     1   \n",
       "3                             Karl                     3   \n",
       "4    Michael D. Bigham \"M. Wassir\"                     0   \n",
       "\n",
       "   HelpfulnessDenominator  Score        Time                Summary  \\\n",
       "0                       1      5  1303862400  Good Quality Dog Food   \n",
       "1                       0      1  1346976000      Not as Advertised   \n",
       "2                       1      4  1219017600  \"Delight\" says it all   \n",
       "3                       3      2  1307923200         Cough Medicine   \n",
       "4                       0      5  1350777600            Great taffy   \n",
       "\n",
       "                                                Text  \n",
       "0  I have bought several of the Vitality canned d...  \n",
       "1  Product arrived labeled as Jumbo Salted Peanut...  \n",
       "2  This is a confection that has been around a fe...  \n",
       "3  If you are looking for the secret ingredient i...  \n",
       "4  Great taffy at a great price.  There was a wid...  "
      ]
     },
     "execution_count": 15,
     "metadata": {},
     "output_type": "execute_result"
    }
   ],
   "source": [
    "# Now we have sentiment score and metadata\n",
    "vaders.head()"
   ]
  },
  {
   "cell_type": "code",
   "execution_count": 18,
   "metadata": {
    "execution": {
     "iopub.execute_input": "2022-05-04T20:02:04.544844Z",
     "iopub.status.busy": "2022-05-04T20:02:04.543909Z",
     "iopub.status.idle": "2022-05-04T20:02:04.549708Z",
     "shell.execute_reply": "2022-05-04T20:02:04.54872Z",
     "shell.execute_reply.started": "2022-05-04T20:02:04.544786Z"
    }
   },
   "outputs": [
    {
     "name": "stdout",
     "output_type": "stream",
     "text": [
      "WARNING:tensorflow:From C:\\Users\\ASUS\\anaconda3\\lib\\site-packages\\keras\\src\\losses.py:2976: The name tf.losses.sparse_softmax_cross_entropy is deprecated. Please use tf.compat.v1.losses.sparse_softmax_cross_entropy instead.\n",
      "\n"
     ]
    }
   ],
   "source": [
    "#roberta pretrained model\n",
    "from transformers import AutoTokenizer\n",
    "from transformers import AutoModelForSequenceClassification\n",
    "from scipy.special import softmax"
   ]
  },
  {
   "cell_type": "code",
   "execution_count": 19,
   "metadata": {
    "execution": {
     "iopub.execute_input": "2022-05-04T20:02:34.967204Z",
     "iopub.status.busy": "2022-05-04T20:02:34.966403Z",
     "iopub.status.idle": "2022-05-04T20:03:04.534818Z",
     "shell.execute_reply": "2022-05-04T20:03:04.533813Z",
     "shell.execute_reply.started": "2022-05-04T20:02:34.967162Z"
    }
   },
   "outputs": [
    {
     "data": {
      "application/vnd.jupyter.widget-view+json": {
       "model_id": "19a31073c4df4b3ba61e4b6e8ec575b0",
       "version_major": 2,
       "version_minor": 0
      },
      "text/plain": [
       "Downloading:   0%|          | 0.00/747 [00:00<?, ?B/s]"
      ]
     },
     "metadata": {},
     "output_type": "display_data"
    },
    {
     "name": "stderr",
     "output_type": "stream",
     "text": [
      "C:\\Users\\ASUS\\anaconda3\\lib\\site-packages\\huggingface_hub\\file_download.py:123: UserWarning: `huggingface_hub` cache-system uses symlinks by default to efficiently store duplicated files but your machine does not support them in C:\\Users\\ASUS\\.cache\\huggingface\\hub. Caching files will still work but in a degraded version that might require more space on your disk. This warning can be disabled by setting the `HF_HUB_DISABLE_SYMLINKS_WARNING` environment variable. For more details, see https://huggingface.co/docs/huggingface_hub/how-to-cache#limitations.\n",
      "To support symlinks on Windows, you either need to activate Developer Mode or to run Python as an administrator. In order to see activate developer mode, see this article: https://docs.microsoft.com/en-us/windows/apps/get-started/enable-your-device-for-development\n",
      "  warnings.warn(message)\n"
     ]
    },
    {
     "data": {
      "application/vnd.jupyter.widget-view+json": {
       "model_id": "9129f4d853494e8a8dcf8836c45c9d4a",
       "version_major": 2,
       "version_minor": 0
      },
      "text/plain": [
       "Downloading:   0%|          | 0.00/899k [00:00<?, ?B/s]"
      ]
     },
     "metadata": {},
     "output_type": "display_data"
    },
    {
     "data": {
      "application/vnd.jupyter.widget-view+json": {
       "model_id": "8a1e56db9201418bbd17c88072dbdcf8",
       "version_major": 2,
       "version_minor": 0
      },
      "text/plain": [
       "Downloading:   0%|          | 0.00/456k [00:00<?, ?B/s]"
      ]
     },
     "metadata": {},
     "output_type": "display_data"
    },
    {
     "data": {
      "application/vnd.jupyter.widget-view+json": {
       "model_id": "7e17c03d7a1043f1b22edac232a02513",
       "version_major": 2,
       "version_minor": 0
      },
      "text/plain": [
       "Downloading:   0%|          | 0.00/150 [00:00<?, ?B/s]"
      ]
     },
     "metadata": {},
     "output_type": "display_data"
    },
    {
     "data": {
      "application/vnd.jupyter.widget-view+json": {
       "model_id": "5fb5f5c1876343b0bff2be41e24611bc",
       "version_major": 2,
       "version_minor": 0
      },
      "text/plain": [
       "Downloading:   0%|          | 0.00/499M [00:00<?, ?B/s]"
      ]
     },
     "metadata": {},
     "output_type": "display_data"
    }
   ],
   "source": [
    "MODEL = f\"cardiffnlp/twitter-roberta-base-sentiment\"\n",
    "tokenizer = AutoTokenizer.from_pretrained(MODEL)\n",
    "model = AutoModelForSequenceClassification.from_pretrained(MODEL)"
   ]
  },
  {
   "cell_type": "code",
   "execution_count": 26,
   "metadata": {
    "execution": {
     "iopub.execute_input": "2022-05-04T20:06:17.759136Z",
     "iopub.status.busy": "2022-05-04T20:06:17.758657Z",
     "iopub.status.idle": "2022-05-04T20:06:17.880012Z",
     "shell.execute_reply": "2022-05-04T20:06:17.879226Z",
     "shell.execute_reply.started": "2022-05-04T20:06:17.7591Z"
    }
   },
   "outputs": [
    {
     "name": "stdout",
     "output_type": "stream",
     "text": [
      "{'roberta_neg': 0.97635514, 'roberta_neu': 0.020687481, 'roberta_pos': 0.0029573753}\n"
     ]
    }
   ],
   "source": [
    "# Run for Roberta Model\n",
    "encoded_text = tokenizer(example, return_tensors='pt')\n",
    "output = model(**encoded_text)\n",
    "scores = output[0][0].detach().numpy()\n",
    "scores = softmax(scores)\n",
    "scores_dict = {\n",
    "    'roberta_neg' : scores[0],\n",
    "    'roberta_neu' : scores[1],\n",
    "    'roberta_pos' : scores[2]\n",
    "}\n",
    "print(scores_dict)"
   ]
  },
  {
   "cell_type": "code",
   "execution_count": 27,
   "metadata": {
    "execution": {
     "iopub.execute_input": "2022-05-04T20:07:13.065087Z",
     "iopub.status.busy": "2022-05-04T20:07:13.064444Z",
     "iopub.status.idle": "2022-05-04T20:07:13.071124Z",
     "shell.execute_reply": "2022-05-04T20:07:13.070421Z",
     "shell.execute_reply.started": "2022-05-04T20:07:13.065019Z"
    }
   },
   "outputs": [],
   "source": [
    "def polarity_scores_roberta(example):\n",
    "    encoded_text = tokenizer(example, return_tensors='pt')\n",
    "    output = model(**encoded_text)\n",
    "    scores = output[0][0].detach().numpy()\n",
    "    scores = softmax(scores)\n",
    "    scores_dict = {\n",
    "        'roberta_neg' : scores[0],\n",
    "        'roberta_neu' : scores[1],\n",
    "        'roberta_pos' : scores[2]\n",
    "    }\n",
    "    return scores_dict"
   ]
  },
  {
   "cell_type": "code",
   "execution_count": 28,
   "metadata": {
    "execution": {
     "iopub.execute_input": "2022-05-04T20:10:38.073859Z",
     "iopub.status.busy": "2022-05-04T20:10:38.073568Z",
     "iopub.status.idle": "2022-05-04T20:12:19.631136Z",
     "shell.execute_reply": "2022-05-04T20:12:19.630135Z",
     "shell.execute_reply.started": "2022-05-04T20:10:38.07383Z"
    }
   },
   "outputs": [
    {
     "data": {
      "application/vnd.jupyter.widget-view+json": {
       "model_id": "c562303e80b24fda915b8e20db1cb516",
       "version_major": 2,
       "version_minor": 0
      },
      "text/plain": [
       "  0%|          | 0/500 [00:00<?, ?it/s]"
      ]
     },
     "metadata": {},
     "output_type": "display_data"
    },
    {
     "name": "stdout",
     "output_type": "stream",
     "text": [
      "Broke for id 83\n",
      "Broke for id 187\n"
     ]
    }
   ],
   "source": [
    "res = {}\n",
    "for i, row in tqdm(df.iterrows(), total=len(df)):\n",
    "    try:\n",
    "        text = row['Text']\n",
    "        myid = row['Id']\n",
    "        vader_result = sia.polarity_scores(text)\n",
    "        vader_result_rename = {}\n",
    "        for key, value in vader_result.items():\n",
    "            vader_result_rename[f\"vader_{key}\"] = value\n",
    "        roberta_result = polarity_scores_roberta(text)\n",
    "        both = {**vader_result_rename, **roberta_result}\n",
    "        res[myid] = both\n",
    "    except RuntimeError:\n",
    "        print(f'Broke for id {myid}')"
   ]
  },
  {
   "cell_type": "code",
   "execution_count": 32,
   "metadata": {
    "execution": {
     "iopub.execute_input": "2022-05-04T20:13:25.789608Z",
     "iopub.status.busy": "2022-05-04T20:13:25.789228Z",
     "iopub.status.idle": "2022-05-04T20:13:25.830997Z",
     "shell.execute_reply": "2022-05-04T20:13:25.829815Z",
     "shell.execute_reply.started": "2022-05-04T20:13:25.789567Z"
    }
   },
   "outputs": [],
   "source": [
    "results_df = pd.DataFrame(res).T\n",
    "results_df = results_df.reset_index().rename(columns={'index': 'Id'})\n",
    "results_df = results_df.merge(df, how='left')"
   ]
  },
  {
   "cell_type": "code",
   "execution_count": 33,
   "metadata": {
    "execution": {
     "iopub.execute_input": "2022-05-04T20:14:18.110755Z",
     "iopub.status.busy": "2022-05-04T20:14:18.110445Z",
     "iopub.status.idle": "2022-05-04T20:14:18.117026Z",
     "shell.execute_reply": "2022-05-04T20:14:18.116414Z",
     "shell.execute_reply.started": "2022-05-04T20:14:18.110719Z"
    }
   },
   "outputs": [
    {
     "data": {
      "text/plain": [
       "Index(['Id', 'vader_neg', 'vader_neu', 'vader_pos', 'vader_compound',\n",
       "       'roberta_neg', 'roberta_neu', 'roberta_pos', 'ProductId', 'UserId',\n",
       "       'ProfileName', 'HelpfulnessNumerator', 'HelpfulnessDenominator',\n",
       "       'Score', 'Time', 'Summary', 'Text'],\n",
       "      dtype='object')"
      ]
     },
     "execution_count": 33,
     "metadata": {},
     "output_type": "execute_result"
    }
   ],
   "source": [
    "results_df.columns"
   ]
  },
  {
   "cell_type": "code",
   "execution_count": 35,
   "metadata": {
    "execution": {
     "iopub.execute_input": "2022-05-04T20:17:40.454931Z",
     "iopub.status.busy": "2022-05-04T20:17:40.45463Z",
     "iopub.status.idle": "2022-05-04T20:17:40.466941Z",
     "shell.execute_reply": "2022-05-04T20:17:40.465905Z",
     "shell.execute_reply.started": "2022-05-04T20:17:40.454899Z"
    }
   },
   "outputs": [
    {
     "data": {
      "text/plain": [
       "'I felt energized within five minutes, but it lasted for about 45 minutes. I paid $3.99 for this drink. I could have just drunk a cup of coffee and saved my money.'"
      ]
     },
     "execution_count": 35,
     "metadata": {},
     "output_type": "execute_result"
    }
   ],
   "source": [
    "results_df.query('Score == 1') \\\n",
    "    .sort_values('roberta_pos', ascending=False)['Text'].values[0]"
   ]
  },
  {
   "cell_type": "code",
   "execution_count": 36,
   "metadata": {
    "execution": {
     "iopub.execute_input": "2022-05-04T20:18:29.570823Z",
     "iopub.status.busy": "2022-05-04T20:18:29.570513Z",
     "iopub.status.idle": "2022-05-04T20:18:29.581437Z",
     "shell.execute_reply": "2022-05-04T20:18:29.580549Z",
     "shell.execute_reply.started": "2022-05-04T20:18:29.57079Z"
    }
   },
   "outputs": [
    {
     "data": {
      "text/plain": [
       "'So we cancelled the order.  It was cancelled without any problem.  That is a positive note...'"
      ]
     },
     "execution_count": 36,
     "metadata": {},
     "output_type": "execute_result"
    }
   ],
   "source": [
    "results_df.query('Score == 1') \\\n",
    "    .sort_values('vader_pos', ascending=False)['Text'].values[0]"
   ]
  },
  {
   "cell_type": "code",
   "execution_count": 37,
   "metadata": {},
   "outputs": [],
   "source": [
    "# negative sentiment 5-Star view"
   ]
  },
  {
   "cell_type": "code",
   "execution_count": 38,
   "metadata": {
    "execution": {
     "iopub.execute_input": "2022-05-04T20:19:28.636791Z",
     "iopub.status.busy": "2022-05-04T20:19:28.636456Z",
     "iopub.status.idle": "2022-05-04T20:19:28.649423Z",
     "shell.execute_reply": "2022-05-04T20:19:28.648342Z",
     "shell.execute_reply.started": "2022-05-04T20:19:28.63676Z"
    }
   },
   "outputs": [
    {
     "data": {
      "text/plain": [
       "'this was sooooo deliscious but too bad i ate em too fast and gained 2 pds! my fault'"
      ]
     },
     "execution_count": 38,
     "metadata": {},
     "output_type": "execute_result"
    }
   ],
   "source": [
    "results_df.query('Score == 5') \\\n",
    "    .sort_values('roberta_neg', ascending=False)['Text'].values[0]"
   ]
  },
  {
   "cell_type": "code",
   "execution_count": 39,
   "metadata": {
    "execution": {
     "iopub.execute_input": "2022-05-04T20:19:50.668588Z",
     "iopub.status.busy": "2022-05-04T20:19:50.668083Z",
     "iopub.status.idle": "2022-05-04T20:19:50.680922Z",
     "shell.execute_reply": "2022-05-04T20:19:50.679368Z",
     "shell.execute_reply.started": "2022-05-04T20:19:50.668533Z"
    }
   },
   "outputs": [
    {
     "data": {
      "text/plain": [
       "'this was sooooo deliscious but too bad i ate em too fast and gained 2 pds! my fault'"
      ]
     },
     "execution_count": 39,
     "metadata": {},
     "output_type": "execute_result"
    }
   ],
   "source": [
    "results_df.query('Score == 5') \\\n",
    "    .sort_values('vader_neg', ascending=False)['Text'].values[0]"
   ]
  },
  {
   "cell_type": "code",
   "execution_count": 69,
   "metadata": {},
   "outputs": [
    {
     "data": {
      "text/plain": [
       "'I purchased it because it was on sale. In terms of the energy it provides, it works, but the taste leaves something to be desired. I tried mixing it with some water to make it more drinkable.'"
      ]
     },
     "execution_count": 69,
     "metadata": {},
     "output_type": "execute_result"
    }
   ],
   "source": [
    "results_df.query('Score == 3') \\\n",
    "    .sort_values('roberta_neu', ascending=False)['Text'].values[0]"
   ]
  },
  {
   "cell_type": "code",
   "execution_count": 70,
   "metadata": {},
   "outputs": [
    {
     "data": {
      "text/plain": [
       "\"This seems a little more wholesome than some of the supermarket brands, but it is somewhat mushy and doesn't have quite as much flavor either.  It didn't pass muster with my kids, so I probably won't buy it again.\""
      ]
     },
     "execution_count": 70,
     "metadata": {},
     "output_type": "execute_result"
    }
   ],
   "source": [
    "results_df.query('Score == 3') \\\n",
    "    .sort_values('vader_neu', ascending=False)['Text'].values[0]"
   ]
  },
  {
   "cell_type": "code",
   "execution_count": 59,
   "metadata": {},
   "outputs": [
    {
     "name": "stdout",
     "output_type": "stream",
     "text": [
      "Collecting tensorflow==2.8\n",
      "  Downloading tensorflow-2.8.0-cp310-cp310-win_amd64.whl.metadata (2.9 kB)\n",
      "Requirement already satisfied: absl-py>=0.4.0 in c:\\users\\asus\\appdata\\roaming\\python\\python310\\site-packages (from tensorflow==2.8) (2.1.0)\n",
      "Requirement already satisfied: astunparse>=1.6.0 in c:\\users\\asus\\anaconda3\\lib\\site-packages (from tensorflow==2.8) (1.6.3)\n",
      "Requirement already satisfied: flatbuffers>=1.12 in c:\\users\\asus\\appdata\\roaming\\python\\python310\\site-packages (from tensorflow==2.8) (24.3.25)\n",
      "Requirement already satisfied: gast>=0.2.1 in c:\\users\\asus\\anaconda3\\lib\\site-packages (from tensorflow==2.8) (0.4.0)\n",
      "Requirement already satisfied: google-pasta>=0.1.1 in c:\\users\\asus\\anaconda3\\lib\\site-packages (from tensorflow==2.8) (0.2.0)\n",
      "Requirement already satisfied: h5py>=2.9.0 in c:\\users\\asus\\anaconda3\\lib\\site-packages (from tensorflow==2.8) (3.7.0)\n",
      "Requirement already satisfied: keras-preprocessing>=1.1.1 in c:\\users\\asus\\anaconda3\\lib\\site-packages (from tensorflow==2.8) (1.1.2)\n",
      "Requirement already satisfied: libclang>=9.0.1 in c:\\users\\asus\\anaconda3\\lib\\site-packages (from tensorflow==2.8) (16.0.6)\n",
      "Requirement already satisfied: numpy>=1.20 in c:\\users\\asus\\appdata\\roaming\\python\\python310\\site-packages (from tensorflow==2.8) (1.24.2)\n",
      "Requirement already satisfied: opt-einsum>=2.3.2 in c:\\users\\asus\\appdata\\roaming\\python\\python310\\site-packages (from tensorflow==2.8) (3.3.0)\n",
      "Requirement already satisfied: protobuf>=3.9.2 in c:\\users\\asus\\anaconda3\\lib\\site-packages (from tensorflow==2.8) (3.19.6)\n",
      "Requirement already satisfied: setuptools in c:\\users\\asus\\appdata\\roaming\\python\\python310\\site-packages (from tensorflow==2.8) (72.1.0)\n",
      "Requirement already satisfied: six>=1.12.0 in c:\\users\\asus\\appdata\\roaming\\python\\python310\\site-packages (from tensorflow==2.8) (1.16.0)\n",
      "Requirement already satisfied: termcolor>=1.1.0 in c:\\users\\asus\\anaconda3\\lib\\site-packages (from tensorflow==2.8) (2.4.0)\n",
      "Requirement already satisfied: typing-extensions>=3.6.6 in c:\\users\\asus\\appdata\\roaming\\python\\python310\\site-packages (from tensorflow==2.8) (4.12.2)\n",
      "Requirement already satisfied: wrapt>=1.11.0 in c:\\users\\asus\\anaconda3\\lib\\site-packages (from tensorflow==2.8) (1.14.1)\n",
      "Collecting tensorboard<2.9,>=2.8 (from tensorflow==2.8)\n",
      "  Downloading tensorboard-2.8.0-py3-none-any.whl.metadata (1.9 kB)\n",
      "Collecting tf-estimator-nightly==2.8.0.dev2021122109 (from tensorflow==2.8)\n",
      "  Downloading tf_estimator_nightly-2.8.0.dev2021122109-py2.py3-none-any.whl.metadata (1.2 kB)\n",
      "Collecting keras<2.9,>=2.8.0rc0 (from tensorflow==2.8)\n",
      "  Downloading keras-2.8.0-py2.py3-none-any.whl.metadata (1.3 kB)\n",
      "Requirement already satisfied: tensorflow-io-gcs-filesystem>=0.23.1 in c:\\users\\asus\\anaconda3\\lib\\site-packages (from tensorflow==2.8) (0.31.0)\n",
      "Requirement already satisfied: grpcio<2.0,>=1.24.3 in c:\\users\\asus\\anaconda3\\lib\\site-packages (from tensorflow==2.8) (1.64.0)\n",
      "Requirement already satisfied: wheel<1.0,>=0.23.0 in c:\\users\\asus\\anaconda3\\lib\\site-packages (from astunparse>=1.6.0->tensorflow==2.8) (0.38.4)\n",
      "Requirement already satisfied: google-auth<3,>=1.6.3 in c:\\users\\asus\\anaconda3\\lib\\site-packages (from tensorboard<2.9,>=2.8->tensorflow==2.8) (2.28.1)\n",
      "Requirement already satisfied: google-auth-oauthlib<0.5,>=0.4.1 in c:\\users\\asus\\anaconda3\\lib\\site-packages (from tensorboard<2.9,>=2.8->tensorflow==2.8) (0.4.6)\n",
      "Requirement already satisfied: markdown>=2.6.8 in c:\\users\\asus\\anaconda3\\lib\\site-packages (from tensorboard<2.9,>=2.8->tensorflow==2.8) (3.4.1)\n",
      "Requirement already satisfied: requests<3,>=2.21.0 in c:\\users\\asus\\appdata\\roaming\\python\\python310\\site-packages (from tensorboard<2.9,>=2.8->tensorflow==2.8) (2.32.3)\n",
      "Requirement already satisfied: tensorboard-data-server<0.7.0,>=0.6.0 in c:\\users\\asus\\anaconda3\\lib\\site-packages (from tensorboard<2.9,>=2.8->tensorflow==2.8) (0.6.1)\n",
      "Requirement already satisfied: tensorboard-plugin-wit>=1.6.0 in c:\\users\\asus\\anaconda3\\lib\\site-packages (from tensorboard<2.9,>=2.8->tensorflow==2.8) (1.8.1)\n",
      "Requirement already satisfied: werkzeug>=0.11.15 in c:\\users\\asus\\appdata\\roaming\\python\\python310\\site-packages (from tensorboard<2.9,>=2.8->tensorflow==2.8) (2.3.6)\n",
      "Requirement already satisfied: cachetools<6.0,>=2.0.0 in c:\\users\\asus\\anaconda3\\lib\\site-packages (from google-auth<3,>=1.6.3->tensorboard<2.9,>=2.8->tensorflow==2.8) (5.3.3)\n",
      "Requirement already satisfied: pyasn1-modules>=0.2.1 in c:\\users\\asus\\appdata\\roaming\\python\\python310\\site-packages (from google-auth<3,>=1.6.3->tensorboard<2.9,>=2.8->tensorflow==2.8) (0.4.0)\n",
      "Requirement already satisfied: rsa<5,>=3.1.4 in c:\\users\\asus\\anaconda3\\lib\\site-packages (from google-auth<3,>=1.6.3->tensorboard<2.9,>=2.8->tensorflow==2.8) (4.9)\n",
      "Requirement already satisfied: requests-oauthlib>=0.7.0 in c:\\users\\asus\\anaconda3\\lib\\site-packages (from google-auth-oauthlib<0.5,>=0.4.1->tensorboard<2.9,>=2.8->tensorflow==2.8) (1.3.1)\n",
      "Requirement already satisfied: charset-normalizer<4,>=2 in c:\\users\\asus\\appdata\\roaming\\python\\python310\\site-packages (from requests<3,>=2.21.0->tensorboard<2.9,>=2.8->tensorflow==2.8) (3.3.2)\n",
      "Requirement already satisfied: idna<4,>=2.5 in c:\\users\\asus\\appdata\\roaming\\python\\python310\\site-packages (from requests<3,>=2.21.0->tensorboard<2.9,>=2.8->tensorflow==2.8) (3.7)\n",
      "Requirement already satisfied: urllib3<3,>=1.21.1 in c:\\users\\asus\\appdata\\roaming\\python\\python310\\site-packages (from requests<3,>=2.21.0->tensorboard<2.9,>=2.8->tensorflow==2.8) (2.2.2)\n",
      "Requirement already satisfied: certifi>=2017.4.17 in c:\\users\\asus\\appdata\\roaming\\python\\python310\\site-packages (from requests<3,>=2.21.0->tensorboard<2.9,>=2.8->tensorflow==2.8) (2024.2.2)\n",
      "Requirement already satisfied: MarkupSafe>=2.1.1 in c:\\users\\asus\\appdata\\roaming\\python\\python310\\site-packages (from werkzeug>=0.11.15->tensorboard<2.9,>=2.8->tensorflow==2.8) (2.1.3)\n",
      "Requirement already satisfied: pyasn1<0.7.0,>=0.4.6 in c:\\users\\asus\\appdata\\roaming\\python\\python310\\site-packages (from pyasn1-modules>=0.2.1->google-auth<3,>=1.6.3->tensorboard<2.9,>=2.8->tensorflow==2.8) (0.6.0)\n",
      "Requirement already satisfied: oauthlib>=3.0.0 in c:\\users\\asus\\anaconda3\\lib\\site-packages (from requests-oauthlib>=0.7.0->google-auth-oauthlib<0.5,>=0.4.1->tensorboard<2.9,>=2.8->tensorflow==2.8) (3.2.2)\n",
      "Downloading tensorflow-2.8.0-cp310-cp310-win_amd64.whl (438.0 MB)\n",
      "   ---------------------------------------- 0.0/438.0 MB ? eta -:--:--\n",
      "   ---------------------------------------- 3.7/438.0 MB 27.3 MB/s eta 0:00:16\n",
      "   - -------------------------------------- 12.1/438.0 MB 39.7 MB/s eta 0:00:11\n",
      "   - -------------------------------------- 19.4/438.0 MB 48.9 MB/s eta 0:00:09\n",
      "   - -------------------------------------- 19.4/438.0 MB 48.9 MB/s eta 0:00:09\n",
      "   - -------------------------------------- 21.5/438.0 MB 23.0 MB/s eta 0:00:19\n",
      "   -- ------------------------------------- 29.6/438.0 MB 26.1 MB/s eta 0:00:16\n",
      "   --- ------------------------------------ 39.3/438.0 MB 29.1 MB/s eta 0:00:14\n",
      "   --- ------------------------------------ 43.8/438.0 MB 27.8 MB/s eta 0:00:15\n",
      "   ---- ----------------------------------- 49.0/438.0 MB 27.6 MB/s eta 0:00:15\n",
      "   ---- ----------------------------------- 53.5/438.0 MB 26.8 MB/s eta 0:00:15\n",
      "   ----- ---------------------------------- 58.2/438.0 MB 26.3 MB/s eta 0:00:15\n",
      "   ----- ---------------------------------- 63.2/438.0 MB 26.0 MB/s eta 0:00:15\n",
      "   ------ --------------------------------- 67.1/438.0 MB 25.3 MB/s eta 0:00:15\n",
      "   ------ --------------------------------- 70.5/438.0 MB 24.7 MB/s eta 0:00:15\n",
      "   ------ --------------------------------- 73.9/438.0 MB 24.0 MB/s eta 0:00:16\n",
      "   ------ --------------------------------- 76.5/438.0 MB 23.5 MB/s eta 0:00:16\n",
      "   ------- -------------------------------- 78.6/438.0 MB 22.5 MB/s eta 0:00:16\n",
      "   ------- -------------------------------- 80.2/438.0 MB 21.8 MB/s eta 0:00:17\n",
      "   ------- -------------------------------- 81.8/438.0 MB 20.9 MB/s eta 0:00:18\n",
      "   ------- -------------------------------- 83.1/438.0 MB 20.2 MB/s eta 0:00:18\n",
      "   ------- -------------------------------- 84.7/438.0 MB 19.4 MB/s eta 0:00:19\n",
      "   ------- -------------------------------- 86.0/438.0 MB 18.8 MB/s eta 0:00:19\n",
      "   ------- -------------------------------- 87.6/438.0 MB 18.2 MB/s eta 0:00:20\n",
      "   -------- ------------------------------- 88.9/438.0 MB 17.8 MB/s eta 0:00:20\n",
      "   -------- ------------------------------- 90.4/438.0 MB 17.3 MB/s eta 0:00:21\n",
      "   -------- ------------------------------- 92.0/438.0 MB 16.9 MB/s eta 0:00:21\n",
      "   -------- ------------------------------- 93.6/438.0 MB 16.5 MB/s eta 0:00:21\n",
      "   -------- ------------------------------- 95.2/438.0 MB 16.2 MB/s eta 0:00:22\n",
      "   -------- ------------------------------- 96.7/438.0 MB 15.9 MB/s eta 0:00:22\n",
      "   -------- ------------------------------- 98.0/438.0 MB 15.5 MB/s eta 0:00:22\n",
      "   --------- ------------------------------ 99.1/438.0 MB 15.2 MB/s eta 0:00:23\n",
      "   -------- ------------------------------ 100.4/438.0 MB 14.9 MB/s eta 0:00:23\n",
      "   --------- ----------------------------- 101.7/438.0 MB 14.7 MB/s eta 0:00:23\n",
      "   --------- ----------------------------- 103.3/438.0 MB 14.4 MB/s eta 0:00:24\n",
      "   --------- ----------------------------- 104.6/438.0 MB 14.2 MB/s eta 0:00:24\n",
      "   --------- ----------------------------- 106.2/438.0 MB 13.9 MB/s eta 0:00:24\n",
      "   --------- ----------------------------- 107.7/438.0 MB 13.8 MB/s eta 0:00:25\n",
      "   --------- ----------------------------- 109.1/438.0 MB 13.6 MB/s eta 0:00:25\n",
      "   --------- ----------------------------- 110.6/438.0 MB 13.4 MB/s eta 0:00:25\n",
      "   ---------- ---------------------------- 112.5/438.0 MB 13.2 MB/s eta 0:00:25\n",
      "   ---------- ---------------------------- 113.8/438.0 MB 13.1 MB/s eta 0:00:25\n",
      "   ---------- ---------------------------- 114.8/438.0 MB 12.9 MB/s eta 0:00:25\n",
      "   ---------- ---------------------------- 116.1/438.0 MB 12.7 MB/s eta 0:00:26\n",
      "   ---------- ---------------------------- 117.2/438.0 MB 12.6 MB/s eta 0:00:26\n",
      "   ---------- ---------------------------- 118.5/438.0 MB 12.4 MB/s eta 0:00:26\n",
      "   ---------- ---------------------------- 119.8/438.0 MB 12.3 MB/s eta 0:00:26\n",
      "   ---------- ---------------------------- 121.1/438.0 MB 12.1 MB/s eta 0:00:27\n",
      "   ---------- ---------------------------- 122.2/438.0 MB 12.0 MB/s eta 0:00:27\n",
      "   ---------- ---------------------------- 123.2/438.0 MB 11.8 MB/s eta 0:00:27\n",
      "   ----------- --------------------------- 124.3/438.0 MB 11.7 MB/s eta 0:00:27\n",
      "   ----------- --------------------------- 125.3/438.0 MB 11.5 MB/s eta 0:00:28\n",
      "   ----------- --------------------------- 126.4/438.0 MB 11.4 MB/s eta 0:00:28\n",
      "   ----------- --------------------------- 127.4/438.0 MB 11.3 MB/s eta 0:00:28\n",
      "   ----------- --------------------------- 128.5/438.0 MB 11.2 MB/s eta 0:00:28\n",
      "   ----------- --------------------------- 129.8/438.0 MB 11.1 MB/s eta 0:00:28\n",
      "   ----------- --------------------------- 130.8/438.0 MB 11.0 MB/s eta 0:00:28\n",
      "   ----------- --------------------------- 132.1/438.0 MB 10.9 MB/s eta 0:00:29\n",
      "   ----------- --------------------------- 133.4/438.0 MB 10.8 MB/s eta 0:00:29\n",
      "   ----------- --------------------------- 134.5/438.0 MB 10.7 MB/s eta 0:00:29\n",
      "   ------------ -------------------------- 136.1/438.0 MB 10.6 MB/s eta 0:00:29\n",
      "   ------------ -------------------------- 137.4/438.0 MB 10.6 MB/s eta 0:00:29\n",
      "   ------------ -------------------------- 138.7/438.0 MB 10.5 MB/s eta 0:00:29\n",
      "   ------------ -------------------------- 140.0/438.0 MB 10.4 MB/s eta 0:00:29\n",
      "   ------------ -------------------------- 141.6/438.0 MB 10.4 MB/s eta 0:00:29\n",
      "   ------------ -------------------------- 142.9/438.0 MB 10.3 MB/s eta 0:00:29\n",
      "   ------------ -------------------------- 144.4/438.0 MB 10.3 MB/s eta 0:00:29\n",
      "   ------------ -------------------------- 145.8/438.0 MB 10.2 MB/s eta 0:00:29\n",
      "   ------------- ------------------------- 147.3/438.0 MB 10.2 MB/s eta 0:00:29\n",
      "   ------------- ------------------------- 148.4/438.0 MB 10.1 MB/s eta 0:00:29\n",
      "   ------------- ------------------------- 149.7/438.0 MB 10.0 MB/s eta 0:00:29\n",
      "   ------------- ------------------------- 150.7/438.0 MB 10.0 MB/s eta 0:00:29\n",
      "   ------------- -------------------------- 152.0/438.0 MB 9.9 MB/s eta 0:00:29\n",
      "   -------------- ------------------------- 153.4/438.0 MB 9.9 MB/s eta 0:00:29\n",
      "   -------------- ------------------------- 154.7/438.0 MB 9.8 MB/s eta 0:00:29\n",
      "   -------------- ------------------------- 156.2/438.0 MB 9.8 MB/s eta 0:00:29\n",
      "   -------------- ------------------------- 157.8/438.0 MB 9.7 MB/s eta 0:00:29\n",
      "   -------------- ------------------------- 159.1/438.0 MB 9.7 MB/s eta 0:00:29\n",
      "   -------------- ------------------------- 160.7/438.0 MB 9.7 MB/s eta 0:00:29\n",
      "   -------------- ------------------------- 162.0/438.0 MB 9.6 MB/s eta 0:00:29\n",
      "   -------------- ------------------------- 163.3/438.0 MB 9.6 MB/s eta 0:00:29\n",
      "   --------------- ------------------------ 164.4/438.0 MB 9.5 MB/s eta 0:00:29\n",
      "   --------------- ------------------------ 165.4/438.0 MB 9.5 MB/s eta 0:00:29\n",
      "   --------------- ------------------------ 166.5/438.0 MB 9.4 MB/s eta 0:00:29\n",
      "   --------------- ------------------------ 167.8/438.0 MB 9.4 MB/s eta 0:00:29\n",
      "   --------------- ------------------------ 169.1/438.0 MB 9.3 MB/s eta 0:00:29\n",
      "   --------------- ------------------------ 170.1/438.0 MB 9.3 MB/s eta 0:00:29\n",
      "   --------------- ------------------------ 171.4/438.0 MB 9.3 MB/s eta 0:00:29\n",
      "   --------------- ------------------------ 173.0/438.0 MB 9.2 MB/s eta 0:00:29\n",
      "   --------------- ------------------------ 174.3/438.0 MB 9.2 MB/s eta 0:00:29\n",
      "   ---------------- ----------------------- 175.6/438.0 MB 9.2 MB/s eta 0:00:29\n",
      "   ---------------- ----------------------- 177.2/438.0 MB 9.1 MB/s eta 0:00:29\n",
      "   ---------------- ----------------------- 178.5/438.0 MB 9.1 MB/s eta 0:00:29\n",
      "   ---------------- ----------------------- 180.1/438.0 MB 9.1 MB/s eta 0:00:29\n",
      "   ---------------- ----------------------- 181.1/438.0 MB 9.0 MB/s eta 0:00:29\n",
      "   ---------------- ----------------------- 182.5/438.0 MB 9.0 MB/s eta 0:00:29\n",
      "   ---------------- ----------------------- 183.5/438.0 MB 9.0 MB/s eta 0:00:29\n",
      "   ---------------- ----------------------- 184.8/438.0 MB 8.9 MB/s eta 0:00:29\n",
      "   ---------------- ----------------------- 186.1/438.0 MB 8.9 MB/s eta 0:00:29\n",
      "   ----------------- ---------------------- 187.4/438.0 MB 8.9 MB/s eta 0:00:29\n",
      "   ----------------- ---------------------- 188.7/438.0 MB 8.8 MB/s eta 0:00:29\n",
      "   ----------------- ---------------------- 190.1/438.0 MB 8.8 MB/s eta 0:00:29\n",
      "   ----------------- ---------------------- 191.4/438.0 MB 8.8 MB/s eta 0:00:29\n",
      "   ----------------- ---------------------- 192.9/438.0 MB 8.8 MB/s eta 0:00:28\n",
      "   ----------------- ---------------------- 194.2/438.0 MB 8.8 MB/s eta 0:00:28\n",
      "   ----------------- ---------------------- 195.6/438.0 MB 8.7 MB/s eta 0:00:28\n",
      "   ----------------- ---------------------- 196.9/438.0 MB 8.7 MB/s eta 0:00:28\n",
      "   ------------------ --------------------- 198.4/438.0 MB 8.7 MB/s eta 0:00:28\n",
      "   ------------------ --------------------- 200.0/438.0 MB 8.7 MB/s eta 0:00:28\n",
      "   ------------------ --------------------- 201.6/438.0 MB 8.7 MB/s eta 0:00:28\n",
      "   ------------------ --------------------- 202.9/438.0 MB 8.7 MB/s eta 0:00:28\n",
      "   ------------------ --------------------- 204.7/438.0 MB 8.7 MB/s eta 0:00:27\n",
      "   ------------------ --------------------- 206.3/438.0 MB 8.6 MB/s eta 0:00:27\n",
      "   ------------------- -------------------- 208.1/438.0 MB 8.6 MB/s eta 0:00:27\n",
      "   ------------------- -------------------- 209.7/438.0 MB 8.6 MB/s eta 0:00:27\n",
      "   ------------------- -------------------- 211.6/438.0 MB 8.6 MB/s eta 0:00:27\n",
      "   ------------------- -------------------- 213.1/438.0 MB 8.6 MB/s eta 0:00:27\n",
      "   ------------------- -------------------- 215.0/438.0 MB 8.6 MB/s eta 0:00:26\n",
      "   ------------------- -------------------- 216.8/438.0 MB 8.6 MB/s eta 0:00:26\n",
      "   ------------------- -------------------- 218.6/438.0 MB 8.6 MB/s eta 0:00:26\n",
      "   -------------------- ------------------- 220.5/438.0 MB 8.6 MB/s eta 0:00:26\n",
      "   -------------------- ------------------- 222.6/438.0 MB 8.6 MB/s eta 0:00:25\n",
      "   -------------------- ------------------- 224.4/438.0 MB 8.7 MB/s eta 0:00:25\n",
      "   -------------------- ------------------- 226.5/438.0 MB 8.7 MB/s eta 0:00:25\n",
      "   -------------------- ------------------- 228.3/438.0 MB 8.7 MB/s eta 0:00:25\n",
      "   --------------------- ------------------ 230.4/438.0 MB 8.7 MB/s eta 0:00:24\n",
      "   --------------------- ------------------ 232.5/438.0 MB 8.7 MB/s eta 0:00:24\n",
      "   --------------------- ------------------ 234.6/438.0 MB 8.7 MB/s eta 0:00:24\n",
      "   --------------------- ------------------ 236.7/438.0 MB 8.7 MB/s eta 0:00:24\n",
      "   --------------------- ------------------ 238.8/438.0 MB 8.7 MB/s eta 0:00:23\n",
      "   ---------------------- ----------------- 240.9/438.0 MB 8.7 MB/s eta 0:00:23\n",
      "   ---------------------- ----------------- 243.3/438.0 MB 8.7 MB/s eta 0:00:23\n",
      "   ---------------------- ----------------- 245.6/438.0 MB 8.8 MB/s eta 0:00:22\n",
      "   ---------------------- ----------------- 248.0/438.0 MB 8.8 MB/s eta 0:00:22\n",
      "   ---------------------- ----------------- 250.3/438.0 MB 8.8 MB/s eta 0:00:22\n",
      "   ----------------------- ---------------- 252.7/438.0 MB 8.8 MB/s eta 0:00:22\n",
      "   ----------------------- ---------------- 255.1/438.0 MB 8.8 MB/s eta 0:00:21\n",
      "   ----------------------- ---------------- 257.7/438.0 MB 8.9 MB/s eta 0:00:21\n",
      "   ----------------------- ---------------- 260.0/438.0 MB 8.9 MB/s eta 0:00:21\n",
      "   ----------------------- ---------------- 262.7/438.0 MB 8.9 MB/s eta 0:00:20\n",
      "   ------------------------ --------------- 265.3/438.0 MB 8.8 MB/s eta 0:00:20\n",
      "   ------------------------ --------------- 267.9/438.0 MB 8.8 MB/s eta 0:00:20\n",
      "   ------------------------ --------------- 269.7/438.0 MB 8.8 MB/s eta 0:00:20\n",
      "   ------------------------ --------------- 270.5/438.0 MB 8.6 MB/s eta 0:00:20\n",
      "   ------------------------ --------------- 271.6/438.0 MB 8.5 MB/s eta 0:00:20\n",
      "   ------------------------ --------------- 272.6/438.0 MB 8.4 MB/s eta 0:00:20\n",
      "   ------------------------ --------------- 273.7/438.0 MB 8.4 MB/s eta 0:00:20\n",
      "   ------------------------- -------------- 274.7/438.0 MB 8.1 MB/s eta 0:00:21\n",
      "   ------------------------- -------------- 275.8/438.0 MB 7.8 MB/s eta 0:00:21\n",
      "   ------------------------- -------------- 276.8/438.0 MB 7.7 MB/s eta 0:00:21\n",
      "   ------------------------- -------------- 278.1/438.0 MB 7.5 MB/s eta 0:00:22\n",
      "   ------------------------- -------------- 279.2/438.0 MB 7.5 MB/s eta 0:00:22\n",
      "   ------------------------- -------------- 280.5/438.0 MB 7.3 MB/s eta 0:00:22\n",
      "   ------------------------- -------------- 281.8/438.0 MB 7.2 MB/s eta 0:00:22\n",
      "   ------------------------- -------------- 283.1/438.0 MB 7.1 MB/s eta 0:00:22\n",
      "   ------------------------- -------------- 284.4/438.0 MB 7.1 MB/s eta 0:00:22\n",
      "   -------------------------- ------------- 285.7/438.0 MB 7.0 MB/s eta 0:00:22\n",
      "   -------------------------- ------------- 287.0/438.0 MB 7.0 MB/s eta 0:00:22\n",
      "   -------------------------- ------------- 288.6/438.0 MB 7.0 MB/s eta 0:00:22\n",
      "   -------------------------- ------------- 290.2/438.0 MB 7.0 MB/s eta 0:00:22\n",
      "   -------------------------- ------------- 291.5/438.0 MB 7.0 MB/s eta 0:00:22\n",
      "   -------------------------- ------------- 292.8/438.0 MB 7.0 MB/s eta 0:00:21\n",
      "   -------------------------- ------------- 294.1/438.0 MB 7.0 MB/s eta 0:00:21\n",
      "   -------------------------- ------------- 295.2/438.0 MB 6.9 MB/s eta 0:00:21\n",
      "   --------------------------- ------------ 296.5/438.0 MB 6.9 MB/s eta 0:00:21\n",
      "   --------------------------- ------------ 297.8/438.0 MB 6.9 MB/s eta 0:00:21\n",
      "   --------------------------- ------------ 299.1/438.0 MB 6.9 MB/s eta 0:00:21\n",
      "   --------------------------- ------------ 300.4/438.0 MB 6.9 MB/s eta 0:00:20\n",
      "   --------------------------- ------------ 301.7/438.0 MB 6.9 MB/s eta 0:00:20\n",
      "   --------------------------- ------------ 303.0/438.0 MB 6.9 MB/s eta 0:00:20\n",
      "   --------------------------- ------------ 304.3/438.0 MB 6.9 MB/s eta 0:00:20\n",
      "   --------------------------- ------------ 305.9/438.0 MB 6.9 MB/s eta 0:00:20\n",
      "   ---------------------------- ----------- 307.5/438.0 MB 6.9 MB/s eta 0:00:19\n",
      "   ---------------------------- ----------- 308.8/438.0 MB 6.9 MB/s eta 0:00:19\n",
      "   ---------------------------- ----------- 310.4/438.0 MB 6.9 MB/s eta 0:00:19\n",
      "   ---------------------------- ----------- 311.7/438.0 MB 6.9 MB/s eta 0:00:19\n",
      "   ---------------------------- ----------- 312.7/438.0 MB 6.9 MB/s eta 0:00:19\n",
      "   ---------------------------- ----------- 313.8/438.0 MB 6.9 MB/s eta 0:00:18\n",
      "   ---------------------------- ----------- 315.1/438.0 MB 6.9 MB/s eta 0:00:18\n",
      "   ---------------------------- ----------- 316.1/438.0 MB 6.9 MB/s eta 0:00:18\n",
      "   ---------------------------- ----------- 317.2/438.0 MB 6.9 MB/s eta 0:00:18\n",
      "   ----------------------------- ---------- 318.5/438.0 MB 6.9 MB/s eta 0:00:18\n",
      "   ----------------------------- ---------- 319.8/438.0 MB 6.9 MB/s eta 0:00:18\n",
      "   ----------------------------- ---------- 321.1/438.0 MB 6.9 MB/s eta 0:00:18\n",
      "   ----------------------------- ---------- 322.4/438.0 MB 6.9 MB/s eta 0:00:17\n",
      "   ----------------------------- ---------- 323.7/438.0 MB 6.9 MB/s eta 0:00:17\n",
      "   ----------------------------- ---------- 325.3/438.0 MB 6.9 MB/s eta 0:00:17\n",
      "   ----------------------------- ---------- 326.6/438.0 MB 6.9 MB/s eta 0:00:17\n",
      "   ----------------------------- ---------- 327.9/438.0 MB 6.9 MB/s eta 0:00:16\n",
      "   ------------------------------ --------- 329.5/438.0 MB 6.9 MB/s eta 0:00:16\n",
      "   ------------------------------ --------- 331.1/438.0 MB 6.9 MB/s eta 0:00:16\n",
      "   ------------------------------ --------- 332.7/438.0 MB 6.9 MB/s eta 0:00:16\n",
      "   ------------------------------ --------- 334.2/438.0 MB 7.0 MB/s eta 0:00:15\n",
      "   ------------------------------ --------- 335.8/438.0 MB 7.0 MB/s eta 0:00:15\n",
      "   ------------------------------ --------- 337.1/438.0 MB 7.0 MB/s eta 0:00:15\n",
      "   ------------------------------ --------- 338.4/438.0 MB 7.0 MB/s eta 0:00:15\n",
      "   ------------------------------- -------- 339.7/438.0 MB 7.0 MB/s eta 0:00:15\n",
      "   ------------------------------- -------- 341.0/438.0 MB 7.0 MB/s eta 0:00:14\n",
      "   ------------------------------- -------- 342.4/438.0 MB 7.0 MB/s eta 0:00:14\n",
      "   ------------------------------- -------- 343.9/438.0 MB 7.0 MB/s eta 0:00:14\n",
      "   ------------------------------- -------- 345.5/438.0 MB 7.0 MB/s eta 0:00:14\n",
      "   ------------------------------- -------- 346.8/438.0 MB 7.0 MB/s eta 0:00:14\n",
      "   ------------------------------- -------- 348.1/438.0 MB 7.0 MB/s eta 0:00:13\n",
      "   ------------------------------- -------- 349.4/438.0 MB 7.0 MB/s eta 0:00:13\n",
      "   -------------------------------- ------- 350.5/438.0 MB 7.0 MB/s eta 0:00:13\n",
      "   -------------------------------- ------- 351.8/438.0 MB 7.0 MB/s eta 0:00:13\n",
      "   -------------------------------- ------- 352.8/438.0 MB 7.0 MB/s eta 0:00:13\n",
      "   -------------------------------- ------- 354.2/438.0 MB 7.0 MB/s eta 0:00:13\n",
      "   -------------------------------- ------- 355.2/438.0 MB 7.0 MB/s eta 0:00:12\n",
      "   -------------------------------- ------- 356.5/438.0 MB 7.0 MB/s eta 0:00:12\n",
      "   -------------------------------- ------- 357.8/438.0 MB 7.0 MB/s eta 0:00:12\n",
      "   -------------------------------- ------- 359.1/438.0 MB 7.0 MB/s eta 0:00:12\n",
      "   -------------------------------- ------- 360.7/438.0 MB 7.0 MB/s eta 0:00:12\n",
      "   --------------------------------- ------ 362.0/438.0 MB 7.0 MB/s eta 0:00:11\n",
      "   --------------------------------- ------ 363.6/438.0 MB 7.0 MB/s eta 0:00:11\n",
      "   --------------------------------- ------ 365.2/438.0 MB 7.0 MB/s eta 0:00:11\n",
      "   --------------------------------- ------ 366.7/438.0 MB 7.0 MB/s eta 0:00:11\n",
      "   --------------------------------- ------ 368.1/438.0 MB 7.0 MB/s eta 0:00:11\n",
      "   --------------------------------- ------ 369.4/438.0 MB 7.0 MB/s eta 0:00:10\n",
      "   --------------------------------- ------ 370.7/438.0 MB 7.0 MB/s eta 0:00:10\n",
      "   --------------------------------- ------ 371.7/438.0 MB 7.0 MB/s eta 0:00:10\n",
      "   ---------------------------------- ----- 373.0/438.0 MB 7.0 MB/s eta 0:00:10\n",
      "   ---------------------------------- ----- 374.3/438.0 MB 7.0 MB/s eta 0:00:10\n",
      "   ---------------------------------- ----- 375.9/438.0 MB 7.0 MB/s eta 0:00:09\n",
      "   ---------------------------------- ----- 377.2/438.0 MB 7.0 MB/s eta 0:00:09\n",
      "   ---------------------------------- ----- 378.5/438.0 MB 7.0 MB/s eta 0:00:09\n",
      "   ---------------------------------- ----- 379.6/438.0 MB 7.0 MB/s eta 0:00:09\n",
      "   ---------------------------------- ----- 381.2/438.0 MB 7.0 MB/s eta 0:00:09\n",
      "   ---------------------------------- ----- 382.5/438.0 MB 7.0 MB/s eta 0:00:08\n",
      "   ----------------------------------- ---- 383.8/438.0 MB 7.0 MB/s eta 0:00:08\n",
      "   ----------------------------------- ---- 384.8/438.0 MB 7.0 MB/s eta 0:00:08\n",
      "   ----------------------------------- ---- 385.9/438.0 MB 7.0 MB/s eta 0:00:08\n",
      "   ----------------------------------- ---- 387.2/438.0 MB 7.0 MB/s eta 0:00:08\n",
      "   ----------------------------------- ---- 388.2/438.0 MB 7.0 MB/s eta 0:00:08\n",
      "   ----------------------------------- ---- 389.5/438.0 MB 7.0 MB/s eta 0:00:07\n",
      "   ----------------------------------- ---- 390.9/438.0 MB 7.0 MB/s eta 0:00:07\n",
      "   ----------------------------------- ---- 392.2/438.0 MB 7.0 MB/s eta 0:00:07\n",
      "   ----------------------------------- ---- 393.5/438.0 MB 7.0 MB/s eta 0:00:07\n",
      "   ------------------------------------ --- 394.8/438.0 MB 7.0 MB/s eta 0:00:07\n",
      "   ------------------------------------ --- 396.1/438.0 MB 7.0 MB/s eta 0:00:07\n",
      "   ------------------------------------ --- 397.7/438.0 MB 7.0 MB/s eta 0:00:06\n",
      "   ------------------------------------ --- 399.0/438.0 MB 7.0 MB/s eta 0:00:06\n",
      "   ------------------------------------ --- 400.6/438.0 MB 7.0 MB/s eta 0:00:06\n",
      "   ------------------------------------ --- 401.9/438.0 MB 7.0 MB/s eta 0:00:06\n",
      "   ------------------------------------ --- 403.2/438.0 MB 7.0 MB/s eta 0:00:05\n",
      "   ------------------------------------ --- 404.5/438.0 MB 7.0 MB/s eta 0:00:05\n",
      "   ------------------------------------- -- 405.5/438.0 MB 7.0 MB/s eta 0:00:05\n",
      "   ------------------------------------- -- 406.8/438.0 MB 7.0 MB/s eta 0:00:05\n",
      "   ------------------------------------- -- 407.9/438.0 MB 6.9 MB/s eta 0:00:05\n",
      "   ------------------------------------- -- 409.5/438.0 MB 6.9 MB/s eta 0:00:05\n",
      "   ------------------------------------- -- 410.8/438.0 MB 6.9 MB/s eta 0:00:04\n",
      "   ------------------------------------- -- 412.1/438.0 MB 6.9 MB/s eta 0:00:04\n",
      "   ------------------------------------- -- 413.7/438.0 MB 6.9 MB/s eta 0:00:04\n",
      "   ------------------------------------- -- 415.0/438.0 MB 6.9 MB/s eta 0:00:04\n",
      "   -------------------------------------- - 416.5/438.0 MB 6.9 MB/s eta 0:00:04\n",
      "   -------------------------------------- - 417.9/438.0 MB 6.9 MB/s eta 0:00:03\n",
      "   -------------------------------------- - 419.4/438.0 MB 6.9 MB/s eta 0:00:03\n",
      "   -------------------------------------- - 421.0/438.0 MB 6.9 MB/s eta 0:00:03\n",
      "   -------------------------------------- - 422.6/438.0 MB 6.8 MB/s eta 0:00:03\n",
      "   -------------------------------------- - 423.6/438.0 MB 6.8 MB/s eta 0:00:03\n",
      "   -------------------------------------- - 424.7/438.0 MB 6.8 MB/s eta 0:00:02\n",
      "   -------------------------------------- - 426.0/438.0 MB 6.8 MB/s eta 0:00:02\n",
      "   ---------------------------------------  427.3/438.0 MB 6.7 MB/s eta 0:00:02\n",
      "   ---------------------------------------  428.6/438.0 MB 6.7 MB/s eta 0:00:02\n",
      "   ---------------------------------------  429.9/438.0 MB 6.7 MB/s eta 0:00:02\n",
      "   ---------------------------------------  431.5/438.0 MB 6.7 MB/s eta 0:00:01\n",
      "   ---------------------------------------  432.8/438.0 MB 6.6 MB/s eta 0:00:01\n",
      "   ---------------------------------------  434.1/438.0 MB 6.6 MB/s eta 0:00:01\n",
      "   ---------------------------------------  435.7/438.0 MB 6.6 MB/s eta 0:00:01\n",
      "   ---------------------------------------  437.3/438.0 MB 6.6 MB/s eta 0:00:01\n",
      "   ---------------------------------------  437.8/438.0 MB 6.6 MB/s eta 0:00:01\n",
      "   ---------------------------------------  437.8/438.0 MB 6.6 MB/s eta 0:00:01\n",
      "   ---------------------------------------  437.8/438.0 MB 6.6 MB/s eta 0:00:01\n",
      "   ---------------------------------------  437.8/438.0 MB 6.6 MB/s eta 0:00:01\n",
      "   ---------------------------------------- 438.0/438.0 MB 6.2 MB/s eta 0:00:00\n",
      "Downloading tf_estimator_nightly-2.8.0.dev2021122109-py2.py3-none-any.whl (462 kB)\n",
      "Downloading keras-2.8.0-py2.py3-none-any.whl (1.4 MB)\n",
      "   ---------------------------------------- 0.0/1.4 MB ? eta -:--:--\n",
      "   ---------------------------------------- 1.4/1.4 MB 6.5 MB/s eta 0:00:00\n",
      "Downloading tensorboard-2.8.0-py3-none-any.whl (5.8 MB)\n",
      "   ---------------------------------------- 0.0/5.8 MB ? eta -:--:--\n",
      "   --------- ------------------------------ 1.3/5.8 MB 7.4 MB/s eta 0:00:01\n",
      "   ------------------- -------------------- 2.9/5.8 MB 7.3 MB/s eta 0:00:01\n",
      "   ------------------------------ --------- 4.5/5.8 MB 7.3 MB/s eta 0:00:01\n",
      "   ---------------------------------------- 5.8/5.8 MB 6.9 MB/s eta 0:00:00\n",
      "Installing collected packages: tf-estimator-nightly, keras, tensorboard, tensorflow\n",
      "  Attempting uninstall: keras\n",
      "    Found existing installation: keras 2.10.0\n",
      "    Uninstalling keras-2.10.0:\n",
      "      Successfully uninstalled keras-2.10.0\n",
      "  Attempting uninstall: tensorboard\n",
      "    Found existing installation: tensorboard 2.10.1\n",
      "    Uninstalling tensorboard-2.10.1:\n",
      "      Successfully uninstalled tensorboard-2.10.1\n",
      "  Attempting uninstall: tensorflow\n",
      "    Found existing installation: tensorflow 2.15.0\n",
      "    Uninstalling tensorflow-2.15.0:\n",
      "      Successfully uninstalled tensorflow-2.15.0\n",
      "  Rolling back uninstall of tensorflow\n",
      "  Moving to c:\\users\\asus\\anaconda3\\lib\\site-packages\\tensorflow-2.15.0.dist-info\\\n",
      "   from C:\\Users\\ASUS\\anaconda3\\Lib\\site-packages\\~ensorflow-2.15.0.dist-info\n",
      "Note: you may need to restart the kernel to use updated packages.\n"
     ]
    },
    {
     "name": "stderr",
     "output_type": "stream",
     "text": [
      "ERROR: Could not install packages due to an OSError: [WinError 5] Access is denied: 'C:\\\\Users\\\\ASUS\\\\anaconda3\\\\Lib\\\\site-packages\\\\tensorflow\\\\lite\\\\experimental\\\\microfrontend\\\\python\\\\ops\\\\_audio_microfrontend_op.so'\n",
      "Consider using the `--user` option or check the permissions.\n",
      "\n"
     ]
    }
   ],
   "source": [
    "pip install tensorflow==2.8"
   ]
  },
  {
   "cell_type": "code",
   "execution_count": 84,
   "metadata": {},
   "outputs": [
    {
     "name": "stdout",
     "output_type": "stream",
     "text": [
      "Requirement already satisfied: transformers in c:\\users\\asus\\anaconda3\\lib\\site-packages (4.24.0)\n",
      "Requirement already satisfied: torch in c:\\users\\asus\\anaconda3\\lib\\site-packages (1.12.1)\n",
      "Requirement already satisfied: filelock in c:\\users\\asus\\appdata\\roaming\\python\\python310\\site-packages (from transformers) (3.13.4)\n",
      "Requirement already satisfied: huggingface-hub<1.0,>=0.10.0 in c:\\users\\asus\\anaconda3\\lib\\site-packages (from transformers) (0.24.5)\n",
      "Requirement already satisfied: numpy>=1.17 in c:\\users\\asus\\appdata\\roaming\\python\\python310\\site-packages (from transformers) (1.24.2)\n",
      "Requirement already satisfied: packaging>=20.0 in c:\\users\\asus\\appdata\\roaming\\python\\python310\\site-packages (from transformers) (23.0)\n",
      "Requirement already satisfied: pyyaml>=5.1 in c:\\users\\asus\\appdata\\roaming\\python\\python310\\site-packages (from transformers) (6.0.1)\n",
      "Requirement already satisfied: regex!=2019.12.17 in c:\\users\\asus\\appdata\\roaming\\python\\python310\\site-packages (from transformers) (2024.7.24)\n",
      "Requirement already satisfied: requests in c:\\users\\asus\\appdata\\roaming\\python\\python310\\site-packages (from transformers) (2.32.3)\n",
      "Requirement already satisfied: tokenizers!=0.11.3,<0.14,>=0.11.1 in c:\\users\\asus\\anaconda3\\lib\\site-packages (from transformers) (0.11.4)\n",
      "Requirement already satisfied: tqdm>=4.27 in c:\\users\\asus\\appdata\\roaming\\python\\python310\\site-packages (from transformers) (4.66.5)\n",
      "Requirement already satisfied: typing_extensions in c:\\users\\asus\\appdata\\roaming\\python\\python310\\site-packages (from torch) (4.12.2)\n",
      "Requirement already satisfied: fsspec>=2023.5.0 in c:\\users\\asus\\anaconda3\\lib\\site-packages (from huggingface-hub<1.0,>=0.10.0->transformers) (2024.6.1)\n",
      "Requirement already satisfied: colorama in c:\\users\\asus\\appdata\\roaming\\python\\python310\\site-packages (from tqdm>=4.27->transformers) (0.4.6)\n",
      "Requirement already satisfied: charset-normalizer<4,>=2 in c:\\users\\asus\\appdata\\roaming\\python\\python310\\site-packages (from requests->transformers) (3.3.2)\n",
      "Requirement already satisfied: idna<4,>=2.5 in c:\\users\\asus\\appdata\\roaming\\python\\python310\\site-packages (from requests->transformers) (3.7)\n",
      "Requirement already satisfied: urllib3<3,>=1.21.1 in c:\\users\\asus\\appdata\\roaming\\python\\python310\\site-packages (from requests->transformers) (2.2.2)\n",
      "Requirement already satisfied: certifi>=2017.4.17 in c:\\users\\asus\\appdata\\roaming\\python\\python310\\site-packages (from requests->transformers) (2024.2.2)\n",
      "Note: you may need to restart the kernel to use updated packages.\n"
     ]
    }
   ],
   "source": [
    "pip install transformers torch\n"
   ]
  },
  {
   "cell_type": "code",
   "execution_count": 86,
   "metadata": {},
   "outputs": [
    {
     "name": "stdout",
     "output_type": "stream",
     "text": [
      "[{'label': 'LABEL_2', 'score': 0.9927003979682922}]\n"
     ]
    }
   ],
   "source": [
    "from transformers import pipeline\n",
    "\n",
    "# Load the fine-tuned RoBERTa sentiment analysis model\n",
    "model_name = 'cardiffnlp/twitter-roberta-base-sentiment'\n",
    "nlp_pipeline = pipeline('sentiment-analysis', model=model_name)\n",
    "\n",
    "# Example text\n",
    "text = \"I love this new feature of the app!\"\n",
    "\n",
    "# Perform sentiment analysis\n",
    "result = nlp_pipeline(text)\n",
    "\n",
    "# Print the result\n",
    "print(result)\n"
   ]
  },
  {
   "cell_type": "code",
   "execution_count": 75,
   "metadata": {
    "execution": {
     "iopub.execute_input": "2022-05-04T20:22:03.114344Z",
     "iopub.status.busy": "2022-05-04T20:22:03.114046Z",
     "iopub.status.idle": "2022-05-04T20:22:03.160623Z",
     "shell.execute_reply": "2022-05-04T20:22:03.159837Z",
     "shell.execute_reply.started": "2022-05-04T20:22:03.114311Z"
    }
   },
   "outputs": [
    {
     "data": {
      "text/plain": [
       "[{'label': 'LABEL_1', 'score': 0.5391751527786255}]"
      ]
     },
     "execution_count": 75,
     "metadata": {},
     "output_type": "execute_result"
    }
   ],
   "source": [
    "nlp_pipeline('I love sentiment analysis!')"
   ]
  },
  {
   "cell_type": "code",
   "execution_count": 76,
   "metadata": {
    "execution": {
     "iopub.execute_input": "2022-05-04T20:22:33.548885Z",
     "iopub.status.busy": "2022-05-04T20:22:33.548562Z",
     "iopub.status.idle": "2022-05-04T20:22:33.590766Z",
     "shell.execute_reply": "2022-05-04T20:22:33.590011Z",
     "shell.execute_reply.started": "2022-05-04T20:22:33.548849Z"
    }
   },
   "outputs": [
    {
     "data": {
      "text/plain": [
       "[{'label': 'LABEL_1', 'score': 0.5426506996154785}]"
      ]
     },
     "execution_count": 76,
     "metadata": {},
     "output_type": "execute_result"
    }
   ],
   "source": [
    "nlp_pipeline('Make sure to like and subscribe!')"
   ]
  },
  {
   "cell_type": "code",
   "execution_count": 77,
   "metadata": {
    "execution": {
     "iopub.execute_input": "2022-05-04T20:22:40.383271Z",
     "iopub.status.busy": "2022-05-04T20:22:40.382654Z",
     "iopub.status.idle": "2022-05-04T20:22:40.416601Z",
     "shell.execute_reply": "2022-05-04T20:22:40.415837Z",
     "shell.execute_reply.started": "2022-05-04T20:22:40.383216Z"
    }
   },
   "outputs": [
    {
     "data": {
      "text/plain": [
       "[{'label': 'LABEL_1', 'score': 0.5425071120262146}]"
      ]
     },
     "execution_count": 77,
     "metadata": {},
     "output_type": "execute_result"
    }
   ],
   "source": [
    "nlp_pipeline('you are worst and best')"
   ]
  },
  {
   "cell_type": "code",
   "execution_count": null,
   "metadata": {},
   "outputs": [],
   "source": []
  }
 ],
 "metadata": {
  "kaggle": {
   "accelerator": "none",
   "dataSources": [
    {
     "datasetId": 18,
     "sourceId": 2157,
     "sourceType": "datasetVersion"
    }
   ],
   "dockerImageVersionId": 30184,
   "isGpuEnabled": false,
   "isInternetEnabled": false,
   "language": "python",
   "sourceType": "notebook"
  },
  "kernelspec": {
   "display_name": "Python 3 (ipykernel)",
   "language": "python",
   "name": "python3"
  },
  "language_info": {
   "codemirror_mode": {
    "name": "ipython",
    "version": 3
   },
   "file_extension": ".py",
   "mimetype": "text/x-python",
   "name": "python",
   "nbconvert_exporter": "python",
   "pygments_lexer": "ipython3",
   "version": "3.10.9"
  }
 },
 "nbformat": 4,
 "nbformat_minor": 4
}
